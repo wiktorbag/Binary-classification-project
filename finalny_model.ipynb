{
 "cells": [
  {
   "cell_type": "code",
   "execution_count": 2,
   "metadata": {},
   "outputs": [],
   "source": [
    "from scipy.stats import randint, uniform\n",
    "import numpy as np\n",
    "from sklearn.pipeline import Pipeline\n",
    "from sklearn.preprocessing import StandardScaler\n",
    "from sklearn.ensemble import GradientBoostingClassifier, RandomForestClassifier, BaggingClassifier\n",
    "from sklearn.ensemble import ExtraTreesClassifier, VotingClassifier, StackingClassifier, AdaBoostClassifier\n",
    "from sklearn.metrics import balanced_accuracy_score\n",
    "from sklearn.model_selection import RandomizedSearchCV, GridSearchCV\n",
    "from sklearn.decomposition import PCA\n",
    "from skopt import BayesSearchCV\n",
    "from sklearn.svm import SVC\n",
    "from sklearn.neighbors import KNeighborsClassifier\n",
    "from sklearn.linear_model import LogisticRegression\n",
    "import seaborn as sns\n",
    "from sklearn.compose import make_column_selector, ColumnTransformer\n",
    "import random\n",
    "random.seed(101)\n",
    "np.random.seed(101)"
   ]
  },
  {
   "cell_type": "code",
   "execution_count": 3,
   "metadata": {},
   "outputs": [],
   "source": [
    "import pandas as pd\n",
    "import numpy as np\n",
    "X = pd.read_csv(\"https://raw.githubusercontent.com/kozaka93/2023Z-MachineLearning/main/project/artifical_train_data.csv\")\n",
    "y = pd.read_csv(\"https://raw.githubusercontent.com/kozaka93/2023Z-MachineLearning/main/project/artifical_train_labels.csv\").values.ravel()\n",
    "real_test = pd.read_csv(\"https://raw.githubusercontent.com/kozaka93/2023Z-MachineLearning/main/project/artifical_test_data.csv\")\n",
    "\n",
    "from sklearn.model_selection import train_test_split\n",
    "X_train, X_test, y_train, y_test = train_test_split(X, y, test_size=0.3)"
   ]
  },
  {
   "cell_type": "code",
   "execution_count": 4,
   "metadata": {},
   "outputs": [
    {
     "data": {
      "image/png": "[encoded data removed]",
      "text/plain": [
       "<Figure size 640x480 with 1 Axes>"
      ]
     },
     "metadata": {},
     "output_type": "display_data"
    }
   ],
   "source": [
    "gb = GradientBoostingClassifier().fit(X_train, y_train)\n",
    "\n",
    "df = pd.DataFrame({\n",
    "    \"col_names\": gb.feature_names_in_,\n",
    "    \"feature_imporatnce\": gb.feature_importances_})\n",
    "sns.barplot(df, x=\"col_names\", y = \"feature_imporatnce\")\n",
    "gb_cols = list(df[df[\"feature_imporatnce\"] > 0.02].col_names)"
   ]
  },
  {
   "cell_type": "code",
   "execution_count": 14,
   "metadata": {},
   "outputs": [],
   "source": [
    "gb_params = {\n",
    "    'random_state':100,\n",
    "    'learning_rate': 2,\n",
    " 'loss': 'exponential',\n",
    " 'min_samples_split': 3,\n",
    " 'n_estimators': 500}\n",
    "gb = GradientBoostingClassifier(**gb_params)\n",
    "\n",
    "rf_params = {\n",
    "    'random_state':100,\n",
    "    'n_estimators': 110,\n",
    " 'min_samples_split': 8,\n",
    " 'min_samples_leaf': 3,\n",
    " 'max_depth': 16,\n",
    " 'criterion': 'gini'}\n",
    "rforest1 = RandomForestClassifier(**rf_params)\n",
    "\n",
    "rf2_params = {\n",
    "    'random_state':100,\n",
    " 'n_estimators': 100,\n",
    " 'min_samples_split': 10,\n",
    " 'min_samples_leaf': 10,\n",
    " 'max_depth': 5,\n",
    " 'criterion': 'entropy'\n",
    "}\n",
    "rforest2 = RandomForestClassifier(**rf2_params)\n",
    "\n",
    "params_knn = {'n_neighbors': 5, 'p': 2}\n",
    "knn = KNeighborsClassifier(**params_knn)\n",
    "pipeline_ensembels = Pipeline([\n",
    "    (\"selector\", ColumnTransformer([\n",
    "        (\"selector\", \"passthrough\", gb_cols)\n",
    "    ], remainder=\"drop\")),\n",
    "    ('scaler', StandardScaler()),\n",
    "    ('stack', StackingClassifier(estimators=[(\"rf1\", rforest1),\n",
    "                                             (\"rf2\", rforest2),\n",
    "                                             ('knn', knn),\n",
    "                                             (\"gb\", gb)]))\n",
    "])\n"
   ]
  },
  {
   "cell_type": "code",
   "execution_count": 13,
   "metadata": {},
   "outputs": [
    {
     "name": "stdout",
     "output_type": "stream",
     "text": [
      "Fitting 3 folds for each of 200 candidates, totalling 600 fits\n",
      "0.866974759190328\n"
     ]
    }
   ],
   "source": [
    "params = {\n",
    "    'stack__rf2__n_estimators': [70, 80,90,95, 100,110, 120,130, 150, 200, 400, 600, 900, 1000, 2000, 4000],\n",
    "    'stack__rf2__max_depth': [1, 2, 3, 5, 8, 10, 12, 13, 15, 16, 18],\n",
    "    'stack__rf2__min_samples_split': [6, 8,10,15, 20, 25, 40, 50, 70, 100],\n",
    "    'stack__rf2__min_samples_leaf': [2, 3, 5, 8, 10, 11, 12 ,15, 20],\n",
    "    'stack__rf2__criterion': ['entropy', 'gini'],\n",
    "    \"stack__knn__n_neighbors\": randint(3, 100),\n",
    "    \"stack__knn__p\": randint(1, 4),\n",
    "} \n",
    "stack_opt = RandomizedSearchCV(pipeline_ensembels,\n",
    "                            scoring=\"balanced_accuracy\",\n",
    "                            n_iter= 200,\n",
    "                            cv = 3,\n",
    "                            n_jobs=3,\n",
    "                            verbose=2,\n",
    "                            return_train_score = True,\n",
    "                            param_distributions= params).fit(X, y)\n",
    "\n",
    "print(stack_opt.best_score_)"
   ]
  },
  {
   "cell_type": "code",
   "execution_count": 14,
   "metadata": {},
   "outputs": [
    {
     "data": {
      "text/plain": [
       "{'stack__knn__n_neighbors': 6,\n",
       " 'stack__knn__p': 2,\n",
       " 'stack__rf2__criterion': 'gini',\n",
       " 'stack__rf2__max_depth': 3,\n",
       " 'stack__rf2__min_samples_leaf': 2,\n",
       " 'stack__rf2__min_samples_split': 6,\n",
       " 'stack__rf2__n_estimators': 130}"
      ]
     },
     "execution_count": 14,
     "metadata": {},
     "output_type": "execute_result"
    }
   ],
   "source": [
    "stack_opt.best_params_"
   ]
  },
  {
   "cell_type": "markdown",
   "metadata": {},
   "source": [
    "SPRAWDZAM CZY ZMINIEJSZENIE OBSZARU SZUKANIA n_neighbors DO CYFR POLEPSZY WYNIK."
   ]
  },
  {
   "cell_type": "code",
   "execution_count": 15,
   "metadata": {},
   "outputs": [
    {
     "name": "stdout",
     "output_type": "stream",
     "text": [
      "Fitting 3 folds for each of 200 candidates, totalling 600 fits\n",
      "0.869971768175361\n"
     ]
    }
   ],
   "source": [
    "params = {\n",
    "    'stack__rf2__n_estimators': [70, 80,90,95, 100,110, 120,130, 150, 200, 400, 600, 900, 1000],\n",
    "    'stack__rf2__max_depth': [1, 2, 3, 5, 8, 10, 12, 13, 15, 16, 18],\n",
    "    'stack__rf2__min_samples_split': [6, 8,10,15, 20, 25, 40, 50, 70, 100],\n",
    "    'stack__rf2__min_samples_leaf': [2, 3, 5, 8, 10, 11, 12 ,15, 20],\n",
    "    'stack__rf2__criterion': ['entropy', 'gini'],\n",
    "    \"stack__knn__n_neighbors\": randint(3, 10), # jedyna zmiana\n",
    "    \"stack__knn__p\": randint(1, 4),\n",
    "} \n",
    "stack_opt = RandomizedSearchCV(pipeline_ensembels,\n",
    "                            scoring=\"balanced_accuracy\",\n",
    "                            n_iter= 200,\n",
    "                            cv = 3,\n",
    "                            n_jobs=3,\n",
    "                            verbose=2,\n",
    "                            return_train_score = True,\n",
    "                            param_distributions= params).fit(X, y)\n",
    "\n",
    "print(stack_opt.best_score_)"
   ]
  },
  {
   "cell_type": "code",
   "execution_count": 17,
   "metadata": {},
   "outputs": [
    {
     "data": {
      "text/plain": [
       "{'stack__knn__n_neighbors': 8,\n",
       " 'stack__knn__p': 1,\n",
       " 'stack__rf2__criterion': 'gini',\n",
       " 'stack__rf2__max_depth': 13,\n",
       " 'stack__rf2__min_samples_leaf': 15,\n",
       " 'stack__rf2__min_samples_split': 100,\n",
       " 'stack__rf2__n_estimators': 200}"
      ]
     },
     "execution_count": 17,
     "metadata": {},
     "output_type": "execute_result"
    }
   ],
   "source": [
    "stack_opt.best_params_"
   ]
  },
  {
   "cell_type": "code",
   "execution_count": 13,
   "metadata": {},
   "outputs": [
    {
     "ename": "NameError",
     "evalue": "name 'stack_opt' is not defined",
     "output_type": "error",
     "traceback": [
      "\u001b[1;31m---------------------------------------------------------------------------\u001b[0m",
      "\u001b[1;31mNameError\u001b[0m                                 Traceback (most recent call last)",
      "Cell \u001b[1;32mIn[13], line 1\u001b[0m\n\u001b[1;32m----> 1\u001b[0m \u001b[43mstack_opt\u001b[49m\u001b[38;5;241m.\u001b[39mbest_estimator_\n",
      "\u001b[1;31mNameError\u001b[0m: name 'stack_opt' is not defined"
     ]
    }
   ],
   "source": [
    "stack_opt.best_estimator_"
   ]
  },
  {
   "cell_type": "markdown",
   "metadata": {},
   "source": [
    "Zostawiam - ostateczny wynik satysfakcjonujący"
   ]
  },
  {
   "cell_type": "code",
   "execution_count": 5,
   "metadata": {},
   "outputs": [],
   "source": [
    "gb_params = {\n",
    "    'random_state':100,\n",
    "    'learning_rate': 2,\n",
    " 'loss': 'exponential',\n",
    " 'min_samples_split': 3,\n",
    " 'n_estimators': 500}\n",
    "gb = GradientBoostingClassifier(**gb_params)\n",
    "\n",
    "rf_params = {\n",
    "    'random_state':100,\n",
    "    'n_estimators': 110,\n",
    " 'min_samples_split': 8,\n",
    " 'min_samples_leaf': 3,\n",
    " 'max_depth': 16,\n",
    " 'criterion': 'gini'}\n",
    "rforest1 = RandomForestClassifier(**rf_params)\n",
    "\n",
    "rf2_params = {\n",
    "    'random_state':100,\n",
    " 'n_estimators': 200,\n",
    " 'min_samples_split': 100,\n",
    " 'min_samples_leaf': 15,\n",
    " 'max_depth': 13,\n",
    " 'criterion': 'gini'\n",
    "}\n",
    "rforest2 = RandomForestClassifier(**rf2_params)\n",
    "\n",
    "params_knn = {'n_neighbors': 8, 'p': 1}\n",
    "knn = KNeighborsClassifier(**params_knn)\n",
    "final_model = Pipeline([\n",
    "    (\"selector\", ColumnTransformer([\n",
    "        (\"selector\", \"passthrough\", gb_cols)\n",
    "    ], remainder=\"drop\")),\n",
    "    ('scaler', StandardScaler()),\n",
    "    ('stack', StackingClassifier(estimators=[(\"rf1\", rforest1),\n",
    "                                             (\"rf2\", rforest2),\n",
    "                                             ('knn', knn),\n",
    "                                             (\"gb\", gb)]))\n",
    "]).fit(X, y)\n"
   ]
  },
  {
   "cell_type": "code",
   "execution_count": 6,
   "metadata": {},
   "outputs": [],
   "source": [
    "np.savetxt(\"320543_artifical_prediction.txt\", final_model.predict_proba(real_test)[:, 1], header = \"320543\")"
   ]
  },
  {
   "cell_type": "markdown",
   "metadata": {},
   "source": [
    "DALSZY KOD NIE JEST WYKORZYSTANY DO WYTWORZENIA ROZWIĄZANIA - BYŁY TO TYLKO NIEUDANE PRÓBY."
   ]
  },
  {
   "cell_type": "code",
   "execution_count": 19,
   "metadata": {},
   "outputs": [
    {
     "name": "stdout",
     "output_type": "stream",
     "text": [
      "knn, k=5, p=2 0.8766556567577486\n",
      "knn, k=8, p=1 0.873719681046275\n"
     ]
    }
   ],
   "source": [
    "''' SPRAWDZENIE CZY DRUGI RANDOM FOREST COŚ DAJE GDY OPTYMALIZUJEMY HIPERPARAMENTRY NA SAMYM TRAINIE - DAJE'''\n",
    "gb_params = {\n",
    "    'random_state':100,\n",
    "    'learning_rate': 2,\n",
    " 'loss': 'exponential',\n",
    " 'min_samples_split': 3,\n",
    " 'n_estimators': 500}\n",
    "gb = GradientBoostingClassifier(**gb_params)\n",
    "\n",
    "rf_params = {\n",
    "    'random_state':100,\n",
    "    'n_estimators': 110,\n",
    " 'min_samples_split': 8,\n",
    " 'min_samples_leaf': 3,\n",
    " 'max_depth': 16,\n",
    " 'criterion': 'gini'}\n",
    "rforest1 = RandomForestClassifier(**rf_params)\n",
    "\n",
    "params_knn = {'n_neighbors': 5, 'p': 2}\n",
    "knn = KNeighborsClassifier(**params_knn)\n",
    "pipeline_ensembels = Pipeline([\n",
    "    (\"selector\", ColumnTransformer([\n",
    "        (\"selector\", \"passthrough\", gb_cols)\n",
    "    ], remainder=\"drop\")),\n",
    "    ('scaler', StandardScaler()),\n",
    "    ('stack', StackingClassifier(estimators=[(\"rf1\", rforest1),\n",
    "                                             ('knn', knn),\n",
    "                                             (\"gb\", gb)]))\n",
    "]).fit(X_train, y_train)\n",
    "y_pred_test = pipeline_ensembels.predict(X_test)\n",
    "params_knn = {'n_neighbors': 8, 'p': 1}\n",
    "knn = KNeighborsClassifier(**params_knn)\n",
    "pipeline_ensembels = Pipeline([\n",
    "    (\"selector\", ColumnTransformer([\n",
    "        (\"selector\", \"passthrough\", gb_cols)\n",
    "    ], remainder=\"drop\")),\n",
    "    ('scaler', StandardScaler()),\n",
    "    ('stack', StackingClassifier(estimators=[(\"rf1\", rforest1),\n",
    "                                             ('knn', knn),\n",
    "                                             (\"gb\", gb)]))\n",
    "]).fit(X_train, y_train)\n",
    "y_pred_test2 = pipeline_ensembels.predict(X_test)\n",
    "print(\"knn, k=5, p=2\", balanced_accuracy_score(y_test, y_pred_test))\n",
    "print(\"knn, k=8, p=1\", balanced_accuracy_score(y_test, y_pred_test2))"
   ]
  },
  {
   "cell_type": "code",
   "execution_count": 24,
   "metadata": {},
   "outputs": [
    {
     "name": "stdout",
     "output_type": "stream",
     "text": [
      "Fitting 3 folds for each of 25 candidates, totalling 75 fits\n",
      "0.86396276516037\n"
     ]
    }
   ],
   "source": [
    "''' SPRAWDZENIE CZY DRUGI RANDOM FOREST COŚ DAJE - DAJE, WYNIK TROCHĘ LEPSZY'''\n",
    "pipeline_ensembels = Pipeline([\n",
    "    (\"selector\", ColumnTransformer([\n",
    "        (\"selector\", \"passthrough\", gb_cols)\n",
    "    ], remainder=\"drop\")),\n",
    "    ('scaler', StandardScaler()),\n",
    "    ('stack', StackingClassifier(estimators=[(\"rf1\", rforest1),\n",
    "                                             ('knn', knn),\n",
    "                                             (\"gb\", gb)]))\n",
    "])\n",
    "params = {\n",
    "    \"stack__knn__n_neighbors\": randint(3, 10),\n",
    "    \"stack__knn__p\": randint(1, 4),\n",
    "} \n",
    "stack_opt2 = RandomizedSearchCV(pipeline_ensembels,\n",
    "                            scoring=\"balanced_accuracy\",\n",
    "                            n_iter= 25,\n",
    "                            cv = 3,\n",
    "                            n_jobs=3,\n",
    "                            verbose=2,\n",
    "                            return_train_score = True,\n",
    "                            param_distributions= params).fit(X, y)\n",
    "\n",
    "print(stack_opt2.best_score_)"
   ]
  },
  {
   "cell_type": "code",
   "execution_count": 25,
   "metadata": {},
   "outputs": [
    {
     "data": {
      "text/plain": [
       "{'stack__knn__n_neighbors': 5, 'stack__knn__p': 3}"
      ]
     },
     "execution_count": 25,
     "metadata": {},
     "output_type": "execute_result"
    }
   ],
   "source": [
    "stack_opt2.best_params_ #0.863 - gdy n_iter=25\n"
   ]
  },
  {
   "cell_type": "code",
   "execution_count": 23,
   "metadata": {},
   "outputs": [
    {
     "data": {
      "text/plain": [
       "{'stack__knn__n_neighbors': 9, 'stack__knn__p': 2}"
      ]
     },
     "execution_count": 23,
     "metadata": {},
     "output_type": "execute_result"
    }
   ],
   "source": [
    "stack_opt2.best_params_ #0.84 - gdy n_iter=10"
   ]
  },
  {
   "cell_type": "code",
   "execution_count": 15,
   "metadata": {},
   "outputs": [],
   "source": [
    "gb_params = {\n",
    "    'random_state':100,\n",
    "    'learning_rate': 2,\n",
    " 'loss': 'exponential',\n",
    " 'min_samples_split': 3,\n",
    " 'n_estimators': 500}\n",
    "gb = GradientBoostingClassifier(**gb_params)\n",
    "\n",
    "rf_params = {\n",
    "    'random_state':100,\n",
    "    'n_estimators': 110,\n",
    " 'min_samples_split': 8,\n",
    " 'min_samples_leaf': 3,\n",
    " 'max_depth': 16,\n",
    " 'criterion': 'gini'}\n",
    "rforest1 = RandomForestClassifier(**rf_params)\n",
    "\n",
    "rf2_params = {\n",
    "    'random_state':100,\n",
    " 'n_estimators': 100,\n",
    " 'min_samples_split': 10,\n",
    " 'min_samples_leaf': 10,\n",
    " 'max_depth': 5,\n",
    " 'criterion': 'entropy'\n",
    "}\n",
    "rforest2 = RandomForestClassifier(**rf2_params)\n",
    "\n",
    "params_knn = {'n_neighbors': 8, 'p': 1}\n",
    "knn = KNeighborsClassifier(**params_knn)\n",
    "pipeline_ensembels = Pipeline([\n",
    "    (\"selector\", ColumnTransformer([\n",
    "        (\"selector\", \"passthrough\", gb_cols)\n",
    "    ], remainder=\"drop\")),\n",
    "    ('scaler', StandardScaler()),\n",
    "    ('stack', StackingClassifier(estimators=[(\"rf1\", rforest1),\n",
    "                                             (\"rf2\", rforest2),\n",
    "                                             ('knn', knn),\n",
    "                                             (\"gb\", gb)]))\n",
    "])\n"
   ]
  },
  {
   "cell_type": "code",
   "execution_count": 17,
   "metadata": {},
   "outputs": [
    {
     "name": "stdout",
     "output_type": "stream",
     "text": [
      "Fitting 3 folds for each of 1 candidates, totalling 3 fits\n"
     ]
    },
    {
     "data": {
      "text/html": [
       "<style>#sk-container-id-1 {color: black;background-color: white;}#sk-container-id-1 pre{padding: 0;}#sk-container-id-1 div.sk-toggleable {background-color: white;}#sk-container-id-1 label.sk-toggleable__label {cursor: pointer;display: block;width: 100%;margin-bottom: 0;padding: 0.3em;box-sizing: border-box;text-align: center;}#sk-container-id-1 label.sk-toggleable__label-arrow:before {content: \"▸\";float: left;margin-right: 0.25em;color: #696969;}#sk-container-id-1 label.sk-toggleable__label-arrow:hover:before {color: black;}#sk-container-id-1 div.sk-estimator:hover label.sk-toggleable__label-arrow:before {color: black;}#sk-container-id-1 div.sk-toggleable__content {max-height: 0;max-width: 0;overflow: hidden;text-align: left;background-color: #f0f8ff;}#sk-container-id-1 div.sk-toggleable__content pre {margin: 0.2em;color: black;border-radius: 0.25em;background-color: #f0f8ff;}#sk-container-id-1 input.sk-toggleable__control:checked~div.sk-toggleable__content {max-height: 200px;max-width: 100%;overflow: auto;}#sk-container-id-1 input.sk-toggleable__control:checked~label.sk-toggleable__label-arrow:before {content: \"▾\";}#sk-container-id-1 div.sk-estimator input.sk-toggleable__control:checked~label.sk-toggleable__label {background-color: #d4ebff;}#sk-container-id-1 div.sk-label input.sk-toggleable__control:checked~label.sk-toggleable__label {background-color: #d4ebff;}#sk-container-id-1 input.sk-hidden--visually {border: 0;clip: rect(1px 1px 1px 1px);clip: rect(1px, 1px, 1px, 1px);height: 1px;margin: -1px;overflow: hidden;padding: 0;position: absolute;width: 1px;}#sk-container-id-1 div.sk-estimator {font-family: monospace;background-color: #f0f8ff;border: 1px dotted black;border-radius: 0.25em;box-sizing: border-box;margin-bottom: 0.5em;}#sk-container-id-1 div.sk-estimator:hover {background-color: #d4ebff;}#sk-container-id-1 div.sk-parallel-item::after {content: \"\";width: 100%;border-bottom: 1px solid gray;flex-grow: 1;}#sk-container-id-1 div.sk-label:hover label.sk-toggleable__label {background-color: #d4ebff;}#sk-container-id-1 div.sk-serial::before {content: \"\";position: absolute;border-left: 1px solid gray;box-sizing: border-box;top: 0;bottom: 0;left: 50%;z-index: 0;}#sk-container-id-1 div.sk-serial {display: flex;flex-direction: column;align-items: center;background-color: white;padding-right: 0.2em;padding-left: 0.2em;position: relative;}#sk-container-id-1 div.sk-item {position: relative;z-index: 1;}#sk-container-id-1 div.sk-parallel {display: flex;align-items: stretch;justify-content: center;background-color: white;position: relative;}#sk-container-id-1 div.sk-item::before, #sk-container-id-1 div.sk-parallel-item::before {content: \"\";position: absolute;border-left: 1px solid gray;box-sizing: border-box;top: 0;bottom: 0;left: 50%;z-index: -1;}#sk-container-id-1 div.sk-parallel-item {display: flex;flex-direction: column;z-index: 1;position: relative;background-color: white;}#sk-container-id-1 div.sk-parallel-item:first-child::after {align-self: flex-end;width: 50%;}#sk-container-id-1 div.sk-parallel-item:last-child::after {align-self: flex-start;width: 50%;}#sk-container-id-1 div.sk-parallel-item:only-child::after {width: 0;}#sk-container-id-1 div.sk-dashed-wrapped {border: 1px dashed gray;margin: 0 0.4em 0.5em 0.4em;box-sizing: border-box;padding-bottom: 0.4em;background-color: white;}#sk-container-id-1 div.sk-label label {font-family: monospace;font-weight: bold;display: inline-block;line-height: 1.2em;}#sk-container-id-1 div.sk-label-container {text-align: center;}#sk-container-id-1 div.sk-container {/* jupyter's `normalize.less` sets `[hidden] { display: none; }` but bootstrap.min.css set `[hidden] { display: none !important; }` so we also need the `!important` here to be able to override the default hidden behavior on the sphinx rendered scikit-learn.org. See: https://github.com/scikit-learn/scikit-learn/issues/21755 */display: inline-block !important;position: relative;}#sk-container-id-1 div.sk-text-repr-fallback {display: none;}</style><div id=\"sk-container-id-1\" class=\"sk-top-container\"><div class=\"sk-text-repr-fallback\"><pre>Pipeline(steps=[(&#x27;selector&#x27;,\n",
       "                 ColumnTransformer(transformers=[(&#x27;selector&#x27;, &#x27;passthrough&#x27;,\n",
       "                                                  [&#x27;22&#x27;, &#x27;23&#x27;, &#x27;24&#x27;, &#x27;25&#x27;, &#x27;26&#x27;,\n",
       "                                                   &#x27;27&#x27;, &#x27;28&#x27;, &#x27;29&#x27;])])),\n",
       "                (&#x27;scaler&#x27;, StandardScaler()),\n",
       "                (&#x27;stack&#x27;,\n",
       "                 StackingClassifier(estimators=[(&#x27;rf1&#x27;,\n",
       "                                                 RandomForestClassifier(max_depth=16,\n",
       "                                                                        min_samples_leaf=3,\n",
       "                                                                        min_samples_split=8,\n",
       "                                                                        n_estimators=110,\n",
       "                                                                        random_state=100)),\n",
       "                                                (&#x27;rf2&#x27;,\n",
       "                                                 RandomForestClassifier(max_depth=13,\n",
       "                                                                        min_samples_leaf=15,\n",
       "                                                                        min_samples_split=100,\n",
       "                                                                        n_estimators=200,\n",
       "                                                                        random_state=100)),\n",
       "                                                (&#x27;knn&#x27;,\n",
       "                                                 KNeighborsClassifier(n_neighbors=8,\n",
       "                                                                      p=1)),\n",
       "                                                (&#x27;gb&#x27;,\n",
       "                                                 GradientBoostingClassifier(learning_rate=2,\n",
       "                                                                            loss=&#x27;exponential&#x27;,\n",
       "                                                                            min_samples_split=3,\n",
       "                                                                            n_estimators=500,\n",
       "                                                                            random_state=100))]))])</pre><b>In a Jupyter environment, please rerun this cell to show the HTML representation or trust the notebook. <br />On GitHub, the HTML representation is unable to render, please try loading this page with nbviewer.org.</b></div><div class=\"sk-container\" hidden><div class=\"sk-item sk-dashed-wrapped\"><div class=\"sk-label-container\"><div class=\"sk-label sk-toggleable\"><input class=\"sk-toggleable__control sk-hidden--visually\" id=\"sk-estimator-id-1\" type=\"checkbox\" ><label for=\"sk-estimator-id-1\" class=\"sk-toggleable__label sk-toggleable__label-arrow\">Pipeline</label><div class=\"sk-toggleable__content\"><pre>Pipeline(steps=[(&#x27;selector&#x27;,\n",
       "                 ColumnTransformer(transformers=[(&#x27;selector&#x27;, &#x27;passthrough&#x27;,\n",
       "                                                  [&#x27;22&#x27;, &#x27;23&#x27;, &#x27;24&#x27;, &#x27;25&#x27;, &#x27;26&#x27;,\n",
       "                                                   &#x27;27&#x27;, &#x27;28&#x27;, &#x27;29&#x27;])])),\n",
       "                (&#x27;scaler&#x27;, StandardScaler()),\n",
       "                (&#x27;stack&#x27;,\n",
       "                 StackingClassifier(estimators=[(&#x27;rf1&#x27;,\n",
       "                                                 RandomForestClassifier(max_depth=16,\n",
       "                                                                        min_samples_leaf=3,\n",
       "                                                                        min_samples_split=8,\n",
       "                                                                        n_estimators=110,\n",
       "                                                                        random_state=100)),\n",
       "                                                (&#x27;rf2&#x27;,\n",
       "                                                 RandomForestClassifier(max_depth=13,\n",
       "                                                                        min_samples_leaf=15,\n",
       "                                                                        min_samples_split=100,\n",
       "                                                                        n_estimators=200,\n",
       "                                                                        random_state=100)),\n",
       "                                                (&#x27;knn&#x27;,\n",
       "                                                 KNeighborsClassifier(n_neighbors=8,\n",
       "                                                                      p=1)),\n",
       "                                                (&#x27;gb&#x27;,\n",
       "                                                 GradientBoostingClassifier(learning_rate=2,\n",
       "                                                                            loss=&#x27;exponential&#x27;,\n",
       "                                                                            min_samples_split=3,\n",
       "                                                                            n_estimators=500,\n",
       "                                                                            random_state=100))]))])</pre></div></div></div><div class=\"sk-serial\"><div class=\"sk-item sk-dashed-wrapped\"><div class=\"sk-label-container\"><div class=\"sk-label sk-toggleable\"><input class=\"sk-toggleable__control sk-hidden--visually\" id=\"sk-estimator-id-2\" type=\"checkbox\" ><label for=\"sk-estimator-id-2\" class=\"sk-toggleable__label sk-toggleable__label-arrow\">selector: ColumnTransformer</label><div class=\"sk-toggleable__content\"><pre>ColumnTransformer(transformers=[(&#x27;selector&#x27;, &#x27;passthrough&#x27;,\n",
       "                                 [&#x27;22&#x27;, &#x27;23&#x27;, &#x27;24&#x27;, &#x27;25&#x27;, &#x27;26&#x27;, &#x27;27&#x27;, &#x27;28&#x27;,\n",
       "                                  &#x27;29&#x27;])])</pre></div></div></div><div class=\"sk-parallel\"><div class=\"sk-parallel-item\"><div class=\"sk-item\"><div class=\"sk-label-container\"><div class=\"sk-label sk-toggleable\"><input class=\"sk-toggleable__control sk-hidden--visually\" id=\"sk-estimator-id-3\" type=\"checkbox\" ><label for=\"sk-estimator-id-3\" class=\"sk-toggleable__label sk-toggleable__label-arrow\">selector</label><div class=\"sk-toggleable__content\"><pre>[&#x27;22&#x27;, &#x27;23&#x27;, &#x27;24&#x27;, &#x27;25&#x27;, &#x27;26&#x27;, &#x27;27&#x27;, &#x27;28&#x27;, &#x27;29&#x27;]</pre></div></div></div><div class=\"sk-serial\"><div class=\"sk-item\"><div class=\"sk-estimator sk-toggleable\"><input class=\"sk-toggleable__control sk-hidden--visually\" id=\"sk-estimator-id-4\" type=\"checkbox\" ><label for=\"sk-estimator-id-4\" class=\"sk-toggleable__label sk-toggleable__label-arrow\">passthrough</label><div class=\"sk-toggleable__content\"><pre>passthrough</pre></div></div></div></div></div></div></div></div><div class=\"sk-item\"><div class=\"sk-estimator sk-toggleable\"><input class=\"sk-toggleable__control sk-hidden--visually\" id=\"sk-estimator-id-5\" type=\"checkbox\" ><label for=\"sk-estimator-id-5\" class=\"sk-toggleable__label sk-toggleable__label-arrow\">StandardScaler</label><div class=\"sk-toggleable__content\"><pre>StandardScaler()</pre></div></div></div><div class=\"sk-item\"><div class=\"sk-label-container\"><div class=\"sk-label sk-toggleable\"><input class=\"sk-toggleable__control sk-hidden--visually\" id=\"sk-estimator-id-6\" type=\"checkbox\" ><label for=\"sk-estimator-id-6\" class=\"sk-toggleable__label sk-toggleable__label-arrow\">stack: StackingClassifier</label><div class=\"sk-toggleable__content\"><pre>StackingClassifier(estimators=[(&#x27;rf1&#x27;,\n",
       "                                RandomForestClassifier(max_depth=16,\n",
       "                                                       min_samples_leaf=3,\n",
       "                                                       min_samples_split=8,\n",
       "                                                       n_estimators=110,\n",
       "                                                       random_state=100)),\n",
       "                               (&#x27;rf2&#x27;,\n",
       "                                RandomForestClassifier(max_depth=13,\n",
       "                                                       min_samples_leaf=15,\n",
       "                                                       min_samples_split=100,\n",
       "                                                       n_estimators=200,\n",
       "                                                       random_state=100)),\n",
       "                               (&#x27;knn&#x27;,\n",
       "                                KNeighborsClassifier(n_neighbors=8, p=1)),\n",
       "                               (&#x27;gb&#x27;,\n",
       "                                GradientBoostingClassifier(learning_rate=2,\n",
       "                                                           loss=&#x27;exponential&#x27;,\n",
       "                                                           min_samples_split=3,\n",
       "                                                           n_estimators=500,\n",
       "                                                           random_state=100))])</pre></div></div></div><div class=\"sk-serial\"><div class=\"sk-item\"><div class=\"sk-parallel\"><div class=\"sk-parallel-item\"><div class=\"sk-item\"><div class=\"sk-label-container\"><div class=\"sk-label sk-toggleable\"><label>rf1</label></div></div><div class=\"sk-serial\"><div class=\"sk-item\"><div class=\"sk-estimator sk-toggleable\"><input class=\"sk-toggleable__control sk-hidden--visually\" id=\"sk-estimator-id-7\" type=\"checkbox\" ><label for=\"sk-estimator-id-7\" class=\"sk-toggleable__label sk-toggleable__label-arrow\">RandomForestClassifier</label><div class=\"sk-toggleable__content\"><pre>RandomForestClassifier(max_depth=16, min_samples_leaf=3, min_samples_split=8,\n",
       "                       n_estimators=110, random_state=100)</pre></div></div></div></div></div></div><div class=\"sk-parallel-item\"><div class=\"sk-item\"><div class=\"sk-label-container\"><div class=\"sk-label sk-toggleable\"><label>rf2</label></div></div><div class=\"sk-serial\"><div class=\"sk-item\"><div class=\"sk-estimator sk-toggleable\"><input class=\"sk-toggleable__control sk-hidden--visually\" id=\"sk-estimator-id-8\" type=\"checkbox\" ><label for=\"sk-estimator-id-8\" class=\"sk-toggleable__label sk-toggleable__label-arrow\">RandomForestClassifier</label><div class=\"sk-toggleable__content\"><pre>RandomForestClassifier(max_depth=13, min_samples_leaf=15, min_samples_split=100,\n",
       "                       n_estimators=200, random_state=100)</pre></div></div></div></div></div></div><div class=\"sk-parallel-item\"><div class=\"sk-item\"><div class=\"sk-label-container\"><div class=\"sk-label sk-toggleable\"><label>knn</label></div></div><div class=\"sk-serial\"><div class=\"sk-item\"><div class=\"sk-estimator sk-toggleable\"><input class=\"sk-toggleable__control sk-hidden--visually\" id=\"sk-estimator-id-9\" type=\"checkbox\" ><label for=\"sk-estimator-id-9\" class=\"sk-toggleable__label sk-toggleable__label-arrow\">KNeighborsClassifier</label><div class=\"sk-toggleable__content\"><pre>KNeighborsClassifier(n_neighbors=8, p=1)</pre></div></div></div></div></div></div><div class=\"sk-parallel-item\"><div class=\"sk-item\"><div class=\"sk-label-container\"><div class=\"sk-label sk-toggleable\"><label>gb</label></div></div><div class=\"sk-serial\"><div class=\"sk-item\"><div class=\"sk-estimator sk-toggleable\"><input class=\"sk-toggleable__control sk-hidden--visually\" id=\"sk-estimator-id-10\" type=\"checkbox\" ><label for=\"sk-estimator-id-10\" class=\"sk-toggleable__label sk-toggleable__label-arrow\">GradientBoostingClassifier</label><div class=\"sk-toggleable__content\"><pre>GradientBoostingClassifier(learning_rate=2, loss=&#x27;exponential&#x27;,\n",
       "                           min_samples_split=3, n_estimators=500,\n",
       "                           random_state=100)</pre></div></div></div></div></div></div></div></div><div class=\"sk-item\"><div class=\"sk-parallel\"><div class=\"sk-parallel-item\"><div class=\"sk-item\"><div class=\"sk-label-container\"><div class=\"sk-label sk-toggleable\"><label>final_estimator</label></div></div><div class=\"sk-serial\"><div class=\"sk-item\"><div class=\"sk-estimator sk-toggleable\"><input class=\"sk-toggleable__control sk-hidden--visually\" id=\"sk-estimator-id-11\" type=\"checkbox\" ><label for=\"sk-estimator-id-11\" class=\"sk-toggleable__label sk-toggleable__label-arrow\">LogisticRegression</label><div class=\"sk-toggleable__content\"><pre>LogisticRegression()</pre></div></div></div></div></div></div></div></div></div></div></div></div></div></div>"
      ],
      "text/plain": [
       "Pipeline(steps=[('selector',\n",
       "                 ColumnTransformer(transformers=[('selector', 'passthrough',\n",
       "                                                  ['22', '23', '24', '25', '26',\n",
       "                                                   '27', '28', '29'])])),\n",
       "                ('scaler', StandardScaler()),\n",
       "                ('stack',\n",
       "                 StackingClassifier(estimators=[('rf1',\n",
       "                                                 RandomForestClassifier(max_depth=16,\n",
       "                                                                        min_samples_leaf=3,\n",
       "                                                                        min_samples_split=8,\n",
       "                                                                        n_estimators=110,\n",
       "                                                                        random_state=100)),\n",
       "                                                ('rf2',\n",
       "                                                 RandomForestClassifier(max_depth=13,\n",
       "                                                                        min_samples_leaf=15,\n",
       "                                                                        min_samples_split=100,\n",
       "                                                                        n_estimators=200,\n",
       "                                                                        random_state=100)),\n",
       "                                                ('knn',\n",
       "                                                 KNeighborsClassifier(n_neighbors=8,\n",
       "                                                                      p=1)),\n",
       "                                                ('gb',\n",
       "                                                 GradientBoostingClassifier(learning_rate=2,\n",
       "                                                                            loss='exponential',\n",
       "                                                                            min_samples_split=3,\n",
       "                                                                            n_estimators=500,\n",
       "                                                                            random_state=100))]))])"
      ]
     },
     "execution_count": 17,
     "metadata": {},
     "output_type": "execute_result"
    }
   ],
   "source": [
    "params = {\n",
    "    'stack__rf2__n_estimators': [200],\n",
    "    'stack__rf2__max_depth': [13],\n",
    "    'stack__rf2__min_samples_split': [100],\n",
    "    'stack__rf2__min_samples_leaf': [15],\n",
    "    'stack__rf2__criterion': ['gini']\n",
    "} \n",
    "stack_opt = RandomizedSearchCV(pipeline_ensembels,\n",
    "                            scoring=\"balanced_accuracy\",\n",
    "                            n_iter= 1,\n",
    "                            cv = 3,\n",
    "                            n_jobs=3,\n",
    "                            verbose=2,\n",
    "                            return_train_score = True,\n",
    "                            param_distributions= params).fit(X, y)\n",
    "\n",
    "stack_opt.best_estimator_"
   ]
  }
 ],
 "metadata": {
  "kernelspec": {
   "display_name": "myenv",
   "language": "python",
   "name": "python3"
  },
  "language_info": {
   "codemirror_mode": {
    "name": "ipython",
    "version": 3
   },
   "file_extension": ".py",
   "mimetype": "text/x-python",
   "name": "python",
   "nbconvert_exporter": "python",
   "pygments_lexer": "ipython3",
   "version": "3.9.18"
  }
 },
 "nbformat": 4,
 "nbformat_minor": 2
}
